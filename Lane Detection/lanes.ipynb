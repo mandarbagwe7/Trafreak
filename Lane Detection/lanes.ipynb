{
 "cells": [
  {
   "cell_type": "code",
   "execution_count": 7,
   "metadata": {},
   "outputs": [],
   "source": [
    "import cv2\n",
    "import numpy as np"
   ]
  },
  {
   "cell_type": "code",
   "execution_count": 8,
   "metadata": {},
   "outputs": [
    {
     "data": {
      "text/plain": [
       "-1"
      ]
     },
     "execution_count": 8,
     "metadata": {},
     "output_type": "execute_result"
    }
   ],
   "source": [
    "image = cv2.imread('test_image_1.jpg')\n",
    "cv2.imshow('result',image)\n",
    "cv2.waitKey(0)"
   ]
  },
  {
   "cell_type": "code",
   "execution_count": 9,
   "metadata": {},
   "outputs": [],
   "source": [
    "def make_points(image, line):\n",
    "    slope, intercept = line\n",
    "    y1 = int(image.shape[0])# bottom of the image\n",
    "    y2 = int(y1*3/5)         # slightly lower than the middle\n",
    "    x1 = int((y1 - intercept)/slope)\n",
    "    x2 = int((y2 - intercept)/slope)\n",
    "    return [[x1, y1, x2, y2]]"
   ]
  },
  {
   "cell_type": "code",
   "execution_count": 10,
   "metadata": {},
   "outputs": [],
   "source": [
    "def average_slope_intercept(image, lines):\n",
    "    left_fit    = []\n",
    "    right_fit   = []\n",
    "    if lines is None:\n",
    "        return None\n",
    "    for line in lines:\n",
    "        for x1, y1, x2, y2 in line:\n",
    "            fit = np.polyfit((x1,x2), (y1,y2), 1)\n",
    "            slope = fit[0]\n",
    "            intercept = fit[1]\n",
    "            if slope < 0: # y is reversed in image\n",
    "                left_fit.append((slope, intercept))\n",
    "            else:\n",
    "                right_fit.append((slope, intercept))\n",
    "    # add more weight to longer lines\n",
    "    left_fit_average  = np.average(left_fit, axis=0)\n",
    "    right_fit_average = np.average(right_fit, axis=0)\n",
    "    left_line  = make_points(image, left_fit_average)\n",
    "    right_line = make_points(image, right_fit_average)\n",
    "    averaged_lines = [left_line, right_line]\n",
    "    return averaged_lines"
   ]
  },
  {
   "cell_type": "code",
   "execution_count": 11,
   "metadata": {},
   "outputs": [],
   "source": [
    "def canny(img):\n",
    "    gray = cv2.cvtColor(img, cv2.COLOR_RGB2GRAY)\n",
    "    kernel = 5\n",
    "    blur = cv2.GaussianBlur(gray,(kernel, kernel),0)\n",
    "    canny = cv2.Canny(gray, 50, 150)\n",
    "    return canny"
   ]
  },
  {
   "cell_type": "code",
   "execution_count": 12,
   "metadata": {},
   "outputs": [],
   "source": [
    "def display_lines(img,lines):\n",
    "    line_image = np.zeros_like(img)\n",
    "    if lines is not None:\n",
    "        for line in lines:\n",
    "            for x1, y1, x2, y2 in line:\n",
    "                cv2.line(line_image,(x1,y1),(x2,y2),(255,0,0),10)\n",
    "    return line_image"
   ]
  },
  {
   "cell_type": "code",
   "execution_count": 13,
   "metadata": {},
   "outputs": [],
   "source": [
    "def region_of_interest(canny):\n",
    "    height = canny.shape[0]\n",
    "    width = canny.shape[1]\n",
    "    mask = np.zeros_like(canny)\n",
    "\n",
    "    triangle = np.array([[\n",
    "    (200, height),\n",
    "    (550, 250),\n",
    "    (1100, height),]], np.int32)\n",
    "\n",
    "    cv2.fillPoly(mask, triangle, 255)\n",
    "    masked_image = cv2.bitwise_and(canny, mask)\n",
    "    return masked_image"
   ]
  },
  {
   "cell_type": "code",
   "execution_count": 14,
   "metadata": {},
   "outputs": [],
   "source": [
    "##FOR VIDEO \n",
    "\n",
    "# cap = cv2.VideoCapture(\"test2.mp4\")\n",
    "# while(cap.isOpened()):\n",
    "#     _, frame = cap.read()\n",
    "#     canny_image = canny(frame)\n",
    "#     cropped_canny = region_of_interest(canny_image)\n",
    "#     lines = cv2.HoughLinesP(cropped_canny, 2, np.pi/180, 100, np.array([]), minLineLength=40,maxLineGap=5)\n",
    "#     averaged_lines = average_slope_intercept(frame, lines)\n",
    "#     line_image = display_lines(frame, averaged_lines)\n",
    "#     combo_image = cv2.addWeighted(frame, 0.8, line_image, 1, 1)\n",
    "#     cv2.imshow(\"result\", combo_image)\n",
    "#     if cv2.waitKey(1) & 0xFF == ord('q'):\n",
    "#         break\n",
    "# cap.release()\n",
    "# cv2.destroyAllWindows()\n",
    "\n",
    "\n",
    "## PRESS q TO QUIT THE VIDEO"
   ]
  },
  {
   "cell_type": "code",
   "execution_count": 15,
   "metadata": {},
   "outputs": [
    {
     "data": {
      "text/plain": [
       "-1"
      ]
     },
     "execution_count": 15,
     "metadata": {},
     "output_type": "execute_result"
    }
   ],
   "source": [
    "# FOR IMAGE\n",
    "\n",
    "# lane_image = np.copy(image)\n",
    "# lane_canny = canny(lane_image)\n",
    "# cropped_canny = region_of_interest(lane_canny)\n",
    "# lines = cv2.HoughLinesP(cropped_canny, 2, np.pi/180, 100, np.array([]), minLineLength=40,maxLineGap=5)\n",
    "# averaged_lines = average_slope_intercept(image, lines)\n",
    "# line_image = display_lines(lane_image, averaged_lines)\n",
    "# combo_image = cv2.addWeighted(lane_image, 0.8, line_image, 1, 0)\n",
    "# cv2.imshow('result',combo_image)\n",
    "# cv2.waitKey(0)\n",
    "\n"
   ]
  },
  {
   "cell_type": "code",
   "execution_count": null,
   "metadata": {},
   "outputs": [],
   "source": []
  }
 ],
 "metadata": {
  "kernelspec": {
   "display_name": "TNF1",
   "language": "python",
   "name": "tnf1"
  },
  "language_info": {
   "codemirror_mode": {
    "name": "ipython",
    "version": 3
   },
   "file_extension": ".py",
   "mimetype": "text/x-python",
   "name": "python",
   "nbconvert_exporter": "python",
   "pygments_lexer": "ipython3",
   "version": "3.5.6"
  }
 },
 "nbformat": 4,
 "nbformat_minor": 4
}
